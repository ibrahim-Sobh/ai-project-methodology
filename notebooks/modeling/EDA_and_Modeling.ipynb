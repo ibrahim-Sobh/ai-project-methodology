{
 "cells": [
  {
   "cell_type": "markdown",
   "metadata": {},
   "source": [
    "\n",
    "### Project : Prudential Life Insurance Assessment - Final Project<br/>\n",
    "### Authors : Ibrahim Sobh & Viet-cuong Nghiem<br/>\n",
    "### Course  : AI Project Methodlogy"
   ]
  }
 ],
 "metadata": {
  "language_info": {
   "name": "python"
  },
  "orig_nbformat": 4
 },
 "nbformat": 4,
 "nbformat_minor": 2
}
