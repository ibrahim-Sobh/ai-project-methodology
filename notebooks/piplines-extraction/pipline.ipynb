{
 "cells": [
  {
   "cell_type": "code",
   "execution_count": 34,
   "metadata": {},
   "outputs": [
    {
     "name": "stdout",
     "output_type": "stream",
     "text": [
      "The autoreload extension is already loaded. To reload it, use:\n",
      "  %reload_ext autoreload\n"
     ]
    }
   ],
   "source": [
    "%load_ext autoreload\n",
    "%autoreload 2\n",
    "import sys\n",
    "if not \"..\" in sys.path:\n",
    "    sys.path.append('..')\n",
    "if not \"../../\" in sys.path:\n",
    "    sys.path.append('../../')\n",
    "\n"
   ]
  },
  {
   "cell_type": "code",
   "execution_count": 37,
   "metadata": {},
   "outputs": [],
   "source": [
    "from app.train import build_model\n",
    "import warnings\n",
    "warnings.simplefilter(action='ignore', category=FutureWarning)\n",
    "warnings.filterwarnings('ignore')\n",
    "warnings.simplefilter('ignore')\n",
    "import pandas as pd\n",
    "pd.reset_option('all')\n",
    "\n",
    "train=pd.read_csv('../../data/train/train.csv')\n",
    "test=pd.read_csv('../../data/test/test.csv')"
   ]
  },
  {
   "cell_type": "code",
   "execution_count": 39,
   "metadata": {},
   "outputs": [
    {
     "ename": "FileNotFoundError",
     "evalue": "[Errno 2] No such file or directory: '../../models/encoder.joblib'",
     "output_type": "error",
     "traceback": [
      "\u001b[0;31m---------------------------------------------------------------------------\u001b[0m",
      "\u001b[0;31mFileNotFoundError\u001b[0m                         Traceback (most recent call last)",
      "\u001b[1;32m/Users/ibrahim/Desktop/AIS/S3/AI Project Methedologie/ai-project-methodology/notebooks/piplines-extraction/pipline.ipynb Cell 3\u001b[0m in \u001b[0;36m<cell line: 1>\u001b[0;34m()\u001b[0m\n\u001b[0;32m----> <a href='vscode-notebook-cell:/Users/ibrahim/Desktop/AIS/S3/AI%20Project%20Methedologie/ai-project-methodology/notebooks/piplines-extraction/pipline.ipynb#ch0000002?line=0'>1</a>\u001b[0m data \u001b[39m=\u001b[39m build_model(train)\n",
      "File \u001b[0;32m~/Desktop/AIS/S3/AI Project Methedologie/ai-project-methodology/app/train.py:33\u001b[0m, in \u001b[0;36mbuild_model\u001b[0;34m(data)\u001b[0m\n\u001b[1;32m     30\u001b[0m X_train, X_test, y_train, y_test \u001b[39m=\u001b[39mdata_split_test_train(data)\n\u001b[1;32m     32\u001b[0m \u001b[39m# Preprocessing(cleaning data and training encoders,scalars)\u001b[39;00m\n\u001b[0;32m---> 33\u001b[0m X_train \u001b[39m=\u001b[39m data_preprocessing(X_train, is_test\u001b[39m=\u001b[39;49m\u001b[39mFalse\u001b[39;49;00m)\n\u001b[1;32m     35\u001b[0m \u001b[39m# Define an evaluation dictonary\u001b[39;00m\n\u001b[1;32m     36\u001b[0m evaluations_dict \u001b[39m=\u001b[39m \u001b[39mdict\u001b[39m()\n",
      "File \u001b[0;32m~/Desktop/AIS/S3/AI Project Methedologie/ai-project-methodology/app/preprocess.py:62\u001b[0m, in \u001b[0;36mdata_preprocessing\u001b[0;34m(data, is_test)\u001b[0m\n\u001b[1;32m     58\u001b[0m data \u001b[39m=\u001b[39m data[list_of_features]\n\u001b[1;32m     60\u001b[0m data \u001b[39m=\u001b[39m fill_features_nulls(data)\n\u001b[0;32m---> 62\u001b[0m data \u001b[39m=\u001b[39m encode_categorical_features(encoder, data, is_test)\n\u001b[1;32m     64\u001b[0m \u001b[39mreturn\u001b[39;00m data\n",
      "File \u001b[0;32m~/Desktop/AIS/S3/AI Project Methedologie/ai-project-methodology/app/preprocess.py:18\u001b[0m, in \u001b[0;36mencode_categorical_features\u001b[0;34m(encoder, data, is_test)\u001b[0m\n\u001b[1;32m     16\u001b[0m \u001b[39mif\u001b[39;00m \u001b[39mnot\u001b[39;00m is_test:\n\u001b[1;32m     17\u001b[0m     encoder\u001b[39m.\u001b[39mfit(data[data_categorical])\n\u001b[0;32m---> 18\u001b[0m     dump(encoder, ENCODER_PATH)\n\u001b[1;32m     19\u001b[0m data[data_categorical] \u001b[39m=\u001b[39m encoder\u001b[39m.\u001b[39mtransform(data[data_categorical])\n\u001b[1;32m     20\u001b[0m \u001b[39mreturn\u001b[39;00m data\n",
      "File \u001b[0;32m~/miniforge3/envs/cv/lib/python3.9/site-packages/joblib/numpy_pickle.py:481\u001b[0m, in \u001b[0;36mdump\u001b[0;34m(value, filename, compress, protocol, cache_size)\u001b[0m\n\u001b[1;32m    479\u001b[0m         NumpyPickler(f, protocol\u001b[39m=\u001b[39mprotocol)\u001b[39m.\u001b[39mdump(value)\n\u001b[1;32m    480\u001b[0m \u001b[39melif\u001b[39;00m is_filename:\n\u001b[0;32m--> 481\u001b[0m     \u001b[39mwith\u001b[39;00m \u001b[39mopen\u001b[39;49m(filename, \u001b[39m'\u001b[39;49m\u001b[39mwb\u001b[39;49m\u001b[39m'\u001b[39;49m) \u001b[39mas\u001b[39;00m f:\n\u001b[1;32m    482\u001b[0m         NumpyPickler(f, protocol\u001b[39m=\u001b[39mprotocol)\u001b[39m.\u001b[39mdump(value)\n\u001b[1;32m    483\u001b[0m \u001b[39melse\u001b[39;00m:\n",
      "\u001b[0;31mFileNotFoundError\u001b[0m: [Errno 2] No such file or directory: '../../models/encoder.joblib'"
     ]
    }
   ],
   "source": [
    "data = build_model(train)"
   ]
  },
  {
   "cell_type": "code",
   "execution_count": null,
   "metadata": {},
   "outputs": [
    {
     "data": {
      "text/plain": [
       "array([8, 8, 8, ..., 8, 8, 6])"
      ]
     },
     "execution_count": 18,
     "metadata": {},
     "output_type": "execute_result"
    }
   ],
   "source": [
    "from app.inference import make_predictions\n",
    "results = make_predictions(train)\n",
    "results"
   ]
  },
  {
   "cell_type": "code",
   "execution_count": null,
   "metadata": {},
   "outputs": [],
   "source": []
  }
 ],
 "metadata": {
  "kernelspec": {
   "display_name": "Python 3.9.0",
   "language": "python",
   "name": "python3"
  },
  "language_info": {
   "codemirror_mode": {
    "name": "ipython",
    "version": 3
   },
   "file_extension": ".py",
   "mimetype": "text/x-python",
   "name": "python",
   "nbconvert_exporter": "python",
   "pygments_lexer": "ipython3",
   "version": "3.9.0"
  },
  "orig_nbformat": 4,
  "vscode": {
   "interpreter": {
    "hash": "207ea21c30e57e17916581cece7e93ad79bc356a57e7bb4351404098d44d3549"
   }
  }
 },
 "nbformat": 4,
 "nbformat_minor": 2
}
